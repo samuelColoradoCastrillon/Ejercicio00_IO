{
  "nbformat": 4,
  "nbformat_minor": 0,
  "metadata": {
    "colab": {
      "provenance": [],
      "authorship_tag": "ABX9TyM0RFLsgxbmJaceJsrzq2tz",
      "include_colab_link": true
    },
    "kernelspec": {
      "name": "python3",
      "display_name": "Python 3"
    },
    "language_info": {
      "name": "python"
    }
  },
  "cells": [
    {
      "cell_type": "markdown",
      "metadata": {
        "id": "view-in-github",
        "colab_type": "text"
      },
      "source": [
        "<a href=\"https://colab.research.google.com/github/samuelColoradoCastrillon/Ejercicio00_IO/blob/main/Ejercicio_00.ipynb\" target=\"_parent\"><img src=\"https://colab.research.google.com/assets/colab-badge.svg\" alt=\"Open In Colab\"/></a>"
      ]
    },
    {
      "cell_type": "markdown",
      "source": [
        "# Título\n",
        "\n",
        "Texto común. **Negrillas** e *Itálicas*"
      ],
      "metadata": {
        "id": "NdaP0lZ6AiDv"
      }
    },
    {
      "cell_type": "markdown",
      "source": [
        "## Subtítulo"
      ],
      "metadata": {
        "id": "Db-xF3cpBIuF"
      }
    },
    {
      "cell_type": "code",
      "execution_count": 2,
      "metadata": {
        "colab": {
          "base_uri": "https://localhost:8080/"
        },
        "id": "99dBpcNS_Huq",
        "outputId": "5f2d016e-758e-438a-97f3-a3a2296f6193"
      },
      "outputs": [
        {
          "output_type": "stream",
          "name": "stdout",
          "text": [
            "1\n",
            "2\n",
            "3\n"
          ]
        }
      ],
      "source": [
        "# Código de prueba\n",
        "\n",
        "print(\"Números del 1 al 3:\")\n",
        "for n in range(1, 4): print(n)"
      ]
    },
    {
      "cell_type": "markdown",
      "source": [
        "### Subsubtítulo"
      ],
      "metadata": {
        "id": "tlJBpc8ZBZM-"
      }
    }
  ]
}